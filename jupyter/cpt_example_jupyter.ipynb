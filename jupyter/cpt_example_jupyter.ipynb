{
 "cells": [
  {
   "cell_type": "markdown",
   "metadata": {},
   "source": [
    "# Example of using Jupyter with the cpt package\n",
    "\n",
    "\n",
    "We can now investigate the usage of the \"cpt\" package with jupyter notebooks. \n",
    "\n",
    "${\\bf Important}$: do not forget to source the setup.csh or setup.sh files before executing this!\n",
    "\n",
    "We will generate some trivial linear data with Gaussian noise such as :\n",
    "\n",
    "$$y = x * G(0,0.01)$$\n",
    "\n",
    "where the function $G(\\mu,\\sigma)$ is a Gaussian deviate with mean $\\mu$ and width $\\sigma$. "
   ]
  },
  {
   "cell_type": "code",
   "execution_count": 8,
   "metadata": {},
   "outputs": [
    {
     "name": "stdout",
     "output_type": "stream",
     "text": [
      "results: y = (-3.95e-03 +- 1.99e-03) x  + (1.00e+00 +- 3.46e-04), chi2 = 2.48e+03\n"
     ]
    },
    {
     "data": {
      "image/png": "[encoded data removed]",
      "text/plain": [
       "<matplotlib.figure.Figure at 0x110129990>"
      ]
     },
     "metadata": {},
     "output_type": "display_data"
    }
   ],
   "source": [
    "import os\n",
    "import sys\n",
    "\n",
    "import numpy\n",
    "\n",
    "\n",
    "import cpt\n",
    "\n",
    "\n",
    "N=100\n",
    "x = [i*0.1 for i in xrange(N)]\n",
    "y = [x[i] * (1 + numpy.random.normal(scale=0.01)) for i in xrange(N)]\n",
    "err = [0.01]*len(y)\n",
    "\n",
    "[a,b,sigma_a,sigma_b,chi_square] = cpt.chi_square_fit(x,y,err)\n",
    "\n",
    "print \"results: y = (%6.2e +- %6.2e) x  + (%6.2e +- %6.2e), chi2 = %6.2e\" % ( a, sigma_a, b, sigma_b, chi_square )\n",
    "\n",
    "\n",
    "import matplotlib.pyplot as plt\n",
    "\n",
    "yfit = [ b * x[i] + a for i in xrange(N)]\n",
    "\n",
    "plt.plot(x,y)\n",
    "plt.plot(x,yfit)\n",
    "plt.show()\n",
    "\n",
    "\n"
   ]
  },
  {
   "cell_type": "code",
   "execution_count": null,
   "metadata": {
    "collapsed": true
   },
   "outputs": [],
   "source": []
  }
 ],
 "metadata": {
  "kernelspec": {
   "display_name": "Python 2",
   "language": "python",
   "name": "python2"
  },
  "language_info": {
   "codemirror_mode": {
    "name": "ipython",
    "version": 2
   },
   "file_extension": ".py",
   "mimetype": "text/x-python",
   "name": "python",
   "nbconvert_exporter": "python",
   "pygments_lexer": "ipython2",
   "version": "2.7.13"
  }
 },
 "nbformat": 4,
 "nbformat_minor": 2
}
